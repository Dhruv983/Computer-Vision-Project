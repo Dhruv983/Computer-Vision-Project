{
 "cells": [
  {
   "cell_type": "code",
   "execution_count": 1,
   "id": "27447128-2bdb-49ed-9de6-459034adeebb",
   "metadata": {},
   "outputs": [],
   "source": [
    "import os"
   ]
  },
  {
   "cell_type": "code",
   "execution_count": 2,
   "id": "39adfc42-d6f6-401e-80b0-1ff27d48cbe4",
   "metadata": {},
   "outputs": [],
   "source": [
    "# clone darknet repo\n",
    "#os.system('git clone https://github.com/ultralytics/yolov5')"
   ]
  },
  {
   "cell_type": "code",
   "execution_count": 3,
   "id": "82ae791e-e204-4297-8003-8f7b5c5a631f",
   "metadata": {},
   "outputs": [],
   "source": [
    "#pip install -r yolov5\\\\requirements.txt"
   ]
  },
  {
   "cell_type": "code",
   "execution_count": 4,
   "id": "adc1525d-af5f-4496-ace3-6e8897d80e63",
   "metadata": {},
   "outputs": [],
   "source": [
    "import glob\n",
    "import os\n",
    "import pickle\n",
    "import xml.etree.ElementTree as ET\n",
    "from os import listdir, getcwd\n",
    "from os.path import join\n",
    "from tqdm import tqdm\n",
    "from sklearn.model_selection import train_test_split\n",
    "import zipfile\n",
    "from pathlib import Path\n",
    "import numpy as np\n",
    "import shutil"
   ]
  },
  {
   "cell_type": "code",
   "execution_count": 5,
   "id": "22bc8c1b-d084-4221-9abb-dffcd8a07e2e",
   "metadata": {},
   "outputs": [],
   "source": [
    "classes = ['with_mask', 'without_mask', 'mask_weared_incorrect']"
   ]
  },
  {
   "cell_type": "code",
   "execution_count": 6,
   "id": "fcff81a2-e469-482f-b4c8-c17a0355c3fd",
   "metadata": {},
   "outputs": [],
   "source": [
    "r_dir = \"datasets\"\n",
    "d_file = \"archive.zip\"\n",
    "img_format = \".png\""
   ]
  },
  {
   "cell_type": "code",
   "execution_count": 7,
   "id": "02de7c96-6b15-4180-b479-9bd2d42f4d23",
   "metadata": {},
   "outputs": [],
   "source": [
    "D_dir = join(r_dir, \"mask\")\n",
    "img_directory = join(D_dir, \"images\")\n",
    "lb_dir = join(D_dir, \"annotations\")\n",
    "p_l_dir = join(D_dir, \"processed_annotations\")\n",
    "train_data_directory = join(D_dir, \"train\")\n",
    "validation_data_directory = join(D_dir, \"valid\")"
   ]
  },
  {
   "cell_type": "code",
   "execution_count": 8,
   "id": "58f91ef6-785f-4486-a01e-f9b31f040e41",
   "metadata": {},
   "outputs": [],
   "source": [
    "with zipfile.ZipFile(join(r_dir, d_file), 'r') as zip_ref:\n",
    "    zip_ref.extractall(D_dir)"
   ]
  },
  {
   "cell_type": "code",
   "execution_count": 9,
   "id": "e588c460-34ec-4610-a14a-9b45676bdb50",
   "metadata": {},
   "outputs": [],
   "source": [
    "Path(train_data_directory).mkdir(parents=True, exist_ok=True)\n",
    "Path(validation_data_directory).mkdir(parents=True, exist_ok=True)\n",
    "Path(train_data_directory + \"/images\").mkdir(parents=True, exist_ok=True)\n",
    "Path(train_data_directory + \"/labels\").mkdir(parents=True, exist_ok=True)\n",
    "Path(validation_data_directory + \"/images\").mkdir(parents=True, exist_ok=True)\n",
    "Path(validation_data_directory + \"/labels\").mkdir(parents=True, exist_ok=True)\n",
    "Path(p_l_dir).mkdir(parents=True, exist_ok=True)"
   ]
  },
  {
   "cell_type": "code",
   "execution_count": 10,
   "id": "4e1debea-2e79-4e6f-956c-a92b8379cc8c",
   "metadata": {},
   "outputs": [],
   "source": [
    "def convert(size, box):\n",
    "    dw = 1./(size[0])\n",
    "    dh = 1./(size[1])\n",
    "    x = (box[0] + box[1])/2.0 - 1\n",
    "    y = (box[2] + box[3])/2.0 - 1\n",
    "    w = box[1] - box[0]\n",
    "    h = box[3] - box[2]\n",
    "    x = x * dw\n",
    "    w = w * dw\n",
    "    y = y * dh\n",
    "    h = h * dh\n",
    "    return (x,y,w,h)"
   ]
  },
  {
   "cell_type": "code",
   "execution_count": 11,
   "id": "75672ad9-c004-4c29-9743-f5b33a9aa3db",
   "metadata": {},
   "outputs": [],
   "source": [
    "def convert_annotation(classes, input_path, output_path):\n",
    "    basename = os.path.basename(input_path)\n",
    "    basename_no_ext = os.path.splitext(basename)[0]\n",
    "\n",
    "    in_file = open(input_path)\n",
    "    out_file = open(output_path + \"/\" + basename_no_ext + '.txt', 'w')\n",
    "\n",
    "    tree = ET.parse(in_file)\n",
    "    root = tree.getroot()\n",
    "    size = root.find('size')\n",
    "    w = int(size.find('width').text)\n",
    "    h = int(size.find('height').text)\n",
    "\n",
    "    for obj in root.iter('object'):\n",
    "        difficult = obj.find('difficult').text\n",
    "        cls = obj.find('name').text\n",
    "        if cls not in classes or int(difficult)==1:\n",
    "            continue\n",
    "        cls_id = classes.index(cls)\n",
    "        xmlbox = obj.find('bndbox')\n",
    "        b = (float(xmlbox.find('xmin').text), float(xmlbox.find('xmax').text), float(xmlbox.find('ymin').text), float(xmlbox.find('ymax').text))\n",
    "        bb = convert((w,h), b)\n",
    "        out_file.write(str(cls_id) + \" \" + \" \".join([str(a) for a in bb]) + '\\n')\n",
    "\n",
    "    in_file.close()\n",
    "    out_file.close()"
   ]
  },
  {
   "cell_type": "code",
   "execution_count": 12,
   "id": "e88e252e-5f84-4c4c-bab4-d54755c34c70",
   "metadata": {},
   "outputs": [],
   "source": [
    "paths = glob.glob(lb_dir + '/*.xml')"
   ]
  },
  {
   "cell_type": "code",
   "execution_count": 13,
   "id": "e0763d0a-1aa1-4613-9ede-1be0a9b25ea4",
   "metadata": {},
   "outputs": [
    {
     "name": "stderr",
     "output_type": "stream",
     "text": [
      "100%|███████████████████████████████████████████████████████████████████████████████| 853/853 [00:01<00:00, 428.71it/s]\n"
     ]
    }
   ],
   "source": [
    "for xml_path in tqdm(paths):\n",
    "    convert_annotation(classes, xml_path, p_l_dir)"
   ]
  },
  {
   "cell_type": "code",
   "execution_count": 14,
   "id": "f568fee6-8c67-4ea5-b3e7-f2d8b11101cb",
   "metadata": {},
   "outputs": [],
   "source": [
    "label_files = glob.glob(p_l_dir + '/*.txt')"
   ]
  },
  {
   "cell_type": "code",
   "execution_count": 15,
   "id": "45c07d30-d4cd-4c52-bcac-f53d064d7800",
   "metadata": {},
   "outputs": [],
   "source": [
    "train_indices, valid_indices = train_test_split(\n",
    "    np.arange(len(label_files)), test_size=0.2, random_state=42, shuffle=True)"
   ]
  },
  {
   "cell_type": "code",
   "execution_count": 16,
   "id": "dbb5fabe-0505-42ca-8170-cf1a227b71d2",
   "metadata": {},
   "outputs": [],
   "source": [
    "train_labels = []\n",
    "for idx in train_indices:\n",
    "    train_labels.append(label_files[idx])"
   ]
  },
  {
   "cell_type": "code",
   "execution_count": 17,
   "id": "1bcbe1f7-2d09-4bcb-aaab-6b70783223fb",
   "metadata": {},
   "outputs": [],
   "source": [
    "valid_labels = []\n",
    "for idx in valid_indices:\n",
    "    valid_labels.append(label_files[idx])"
   ]
  },
  {
   "cell_type": "code",
   "execution_count": 18,
   "id": "09446e98-66d8-4a22-839b-0483d149c96c",
   "metadata": {},
   "outputs": [],
   "source": [
    "for label_path in train_labels:\n",
    "    basename = os.path.basename(label_path)\n",
    "    basename_no_ext = os.path.splitext(basename)[0]\n",
    "\n",
    "    shutil.move(label_path, join(train_data_directory, \"labels\", basename_no_ext + \".txt\"))\n",
    "    shutil.move(join(img_directory, basename_no_ext + img_format), join(train_data_directory, \"images\", basename_no_ext + img_format))\n"
   ]
  },
  {
   "cell_type": "code",
   "execution_count": 19,
   "id": "850d31b3-a26b-49e4-b5cb-dee0adeee742",
   "metadata": {},
   "outputs": [],
   "source": [
    "for label_path in valid_labels:\n",
    "    basename = os.path.basename(label_path)\n",
    "    basename_no_ext = os.path.splitext(basename)[0]\n",
    "\n",
    "    shutil.move(label_path, join(validation_data_directory, \"labels\", basename_no_ext + \".txt\"))\n",
    "    shutil.move(join(img_directory, basename_no_ext + img_format), join(validation_data_directory, \"images\", basename_no_ext + img_format))"
   ]
  }
 ],
 "metadata": {
  "kernelspec": {
   "display_name": "Python 3 (ipykernel)",
   "language": "python",
   "name": "python3"
  },
  "language_info": {
   "codemirror_mode": {
    "name": "ipython",
    "version": 3
   },
   "file_extension": ".py",
   "mimetype": "text/x-python",
   "name": "python",
   "nbconvert_exporter": "python",
   "pygments_lexer": "ipython3",
   "version": "3.11.2"
  }
 },
 "nbformat": 4,
 "nbformat_minor": 5
}
